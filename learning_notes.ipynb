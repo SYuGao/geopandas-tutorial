{
 "cells": [
  {
   "cell_type": "markdown",
   "id": "1321f288-886b-4d87-9b51-b1f6f5a406f2",
   "metadata": {},
   "source": [
    "## Methods:"
   ]
  },
  {
   "cell_type": "markdown",
   "id": "d204508f-c678-41e4-ac4b-83650a60ece7",
   "metadata": {},
   "source": [
    "single_shapely_object or gdf(geodataframe)都适用  \n",
    "1.`gdf.head()`  \n",
    "2.`gdf.plot()`   常用参数：figsize=(a,b),ax=ax, column='col1',legend=True, edgecolor='k', facecolor='none', color = 'r'  `legend=True` 参数用于在地图上显示颜色条和相应的标签。如果将该参数设置为 True，则会在地图的右下角显示一个颜色条，并将该颜色条上的颜色映射到不同的值。每个颜色条的标签表示每个值范围的含义。     \n",
    "3.`gdf.explore()`  \n",
    "4.`gdf.geometry`    \n",
    "5.`gdf.geometry.area`  \n",
    "6.`gdf.distance(other_point)`  \n",
    "7.`gdf.sort_values(by='area', ascending=False/True)`,`df.sort_values('column_name', ascending=False)`可以用于按列中的值排序 DataFrame 或 Series。要将列中的值按从大到小的顺序排序，可以将 sort_values() 方法的 ascending 参数设置为 False, df 是要排序的 DataFrame，'column_name' 是要排序的列名，ascending=False 表示按从大到小的顺序排序。如果要对多列进行排序，则可以将列名作为列表传递给 sort_values() 方法，例如：`df.sort_values(['column_name1', 'column_name2'], ascending=False)` 这将首先按 column_name1 列的值排序，然后在相同值的情况下按 column_name2 列的值排序.对于 Series 对象，使用 sort_values() 方法的方式类似,例如`s.sort_values(ascending=False)`,  这将按从大到小的顺序排序 Series 中的值。  \n",
    "8.`gdf.to_crs(epsg=3395)` 转换坐标系  常用参数：`epsg=3395` or `EPSG:3395`  \n"
   ]
  },
  {
   "cell_type": "markdown",
   "id": "e4e576cb-c9c4-4107-b000-f5d9c8994bce",
   "metadata": {},
   "source": [
    "## Functions:"
   ]
  },
  {
   "cell_type": "markdown",
   "id": "f1589703-c101-48cc-83a0-0f3753e2a889",
   "metadata": {},
   "source": [
    "1.`geopandas.read_file(\"data/ne_110m_admin_0_countries.zip\")`  \n",
    "2.`geopandas.points_from_xy(df.Longitude, df.Latitude)`  \n",
    "3.`type(gdf)`  \n",
    "4.`Point(), Polygon(), LineString()`  \n",
    "5.`geopandas.GeoDataFrame(df, geometry=geopandas.points_from_xy(df.Longitude, df.Latitude))`  \n",
    "6.`contextily.add_basemap()`   例如：`ax = stations_webmercator.plot(markersize=5,figsize=(12,6))`  `contextily.add_basemap(ax)`  Plot the stations with a background map  "
   ]
  },
  {
   "cell_type": "markdown",
   "id": "17a437ff-93a7-4fb6-b43c-937fd999c7f3",
   "metadata": {
    "tags": []
   },
   "source": [
    "## Attributes:"
   ]
  },
  {
   "cell_type": "markdown",
   "id": "20d5602c-ad86-4278-9dc6-af391897129c",
   "metadata": {},
   "source": [
    "- `gdf.shape` `.shape` 是一个属性，用于获取数组或矩阵的形状，即行数和列数。对于二维数组或矩阵，`.shape` 返回一个包含两个元素的元组 (rows, cols) 例如：`coordinates_pairs.shape[0]` 表示 `coordinates_pairs` 数组或矩阵的行数，即第一维的长度。这通常用于确定数组或矩阵的大小，或者在遍历多维数组时迭代每个元素。例如，可以使用 `range(coordinates_pairs.shape[0])` 来迭代 `coordinates_pairs` 中的每一行数据。  \n",
    "- `gdf.crs` \n",
    "The `.crs` attribute returns a `pyproj.CRS` object. To specify a CRS, we typically use some string representation:\n",
    "\n",
    "\n",
    "  - **EPSG code**\n",
    "  \n",
    "  Example: `EPSG:4326` = WGS84 geographic CRS (longitude, latitude)\n",
    "  \n",
    "  - **Well-Know-Text (WKT)** representation\n",
    "\n",
    "  - In older software and datasets, you might also encounter a \"`proj4` string\" representation:\n",
    "  \n",
    "  Example: `+proj=longlat +datum=WGS84 +no_defs`\n",
    "\n",
    "  This is however no longer recommended.\n",
    "\n",
    "\n",
    "See eg https://epsg.io/4326\n",
    "\n",
    "Under the hood, GeoPandas uses the `pyproj` / `PROJ` libraries to deal with the re-projections.\n",
    "\n",
    "For more information, see also http://geopandas.readthedocs.io/en/latest/projections.html."
   ]
  }
 ],
 "metadata": {
  "kernelspec": {
   "display_name": "Python 3 (ipykernel)",
   "language": "python",
   "name": "python3"
  },
  "language_info": {
   "codemirror_mode": {
    "name": "ipython",
    "version": 3
   },
   "file_extension": ".py",
   "mimetype": "text/x-python",
   "name": "python",
   "nbconvert_exporter": "python",
   "pygments_lexer": "ipython3",
   "version": "3.10.9"
  }
 },
 "nbformat": 4,
 "nbformat_minor": 5
}
